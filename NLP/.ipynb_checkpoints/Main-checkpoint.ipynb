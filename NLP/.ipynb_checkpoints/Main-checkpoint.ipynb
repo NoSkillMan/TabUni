{
 "cells": [
  {
   "cell_type": "code",
   "execution_count": 1,
   "metadata": {},
   "outputs": [],
   "source": [
    "# coding: utf-8\n",
    "import os\n",
    "from SimpleNLP import SimpleCorpusProcessor\n",
    "import pandas as pd "
   ]
  },
  {
   "cell_type": "code",
   "execution_count": 2,
   "metadata": {},
   "outputs": [],
   "source": [
    "pwd = os.getcwd()\n",
    "corpus_path = os.path.join(pwd, \"corpus/\")\n",
    "corpus = {}\n",
    "for root, dirs, files in os.walk(corpus_path):\n",
    "    for file in files:\n",
    "        if '.txt' in file:\n",
    "            path = os.path.join(root, file)\n",
    "            with open(path, 'r', encoding=\"utf8\") as fp:\n",
    "                doc = fp.read().replace('\\n', '')\n",
    "            key = file.replace('.txt', '')\n",
    "            corpus[key] = doc\n"
   ]
  },
  {
   "cell_type": "code",
   "execution_count": null,
   "metadata": {},
   "outputs": [],
   "source": [
    "corpus"
   ]
  },
  {
   "cell_type": "code",
   "execution_count": null,
   "metadata": {},
   "outputs": [],
   "source": [
    "corpus = SimpleCorpusProcessor(corpus, remove_marks=True)\n",
    "tf = corpus.TermFrequencies()\n",
    "# tf.to_csv(pwd + '/TermFrequencies.csv', encoding='utf-8')\n",
    "\n",
    "df = corpus.DocumentFrequencies()\n",
    "# df.to_csv(pwd + '/DocumentFreguencies.csv', encoding='utf-8')\n",
    "\n",
    "tfidf = corpus.TFIDF()\n",
    "# df.to_csv(pwd + '/TFIDF.csv', encoding='utf-8')"
   ]
  },
  {
   "cell_type": "code",
   "execution_count": null,
   "metadata": {},
   "outputs": [],
   "source": [
    "pd.set_option('display.max_rows', None)"
   ]
  },
  {
   "cell_type": "code",
   "execution_count": null,
   "metadata": {},
   "outputs": [],
   "source": [
    "print(list(tf.columns))\n"
   ]
  },
  {
   "cell_type": "code",
   "execution_count": null,
   "metadata": {},
   "outputs": [],
   "source": [
    "tf"
   ]
  },
  {
   "cell_type": "code",
   "execution_count": null,
   "metadata": {},
   "outputs": [],
   "source": [
    "df.head(20)"
   ]
  },
  {
   "cell_type": "code",
   "execution_count": null,
   "metadata": {},
   "outputs": [],
   "source": [
    "tfidf"
   ]
  },
  {
   "cell_type": "code",
   "execution_count": null,
   "metadata": {},
   "outputs": [],
   "source": []
  }
 ],
 "metadata": {
  "kernelspec": {
   "display_name": "Python 3.8.1 64-bit",
   "language": "python",
   "name": "python38164bit7b0b6e07f5da4a47b8663385b803d347"
  },
  "language_info": {
   "codemirror_mode": {
    "name": "ipython",
    "version": 3
   },
   "file_extension": ".py",
   "mimetype": "text/x-python",
   "name": "python",
   "nbconvert_exporter": "python",
   "pygments_lexer": "ipython3",
   "version": "3.8.1"
  }
 },
 "nbformat": 4,
 "nbformat_minor": 4
}
